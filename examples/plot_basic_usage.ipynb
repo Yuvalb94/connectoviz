{
 "cells": [
  {
   "cell_type": "code",
   "execution_count": 19,
   "id": "f5e7440e",
   "metadata": {},
   "outputs": [],
   "source": [
    "import sys\n",
    "from pathlib import Path\n",
    "\n",
    "# Assuming your notebook is in connectoviz/examples\n",
    "project_root = Path.cwd().parents[0]  # One level up from examples/\n",
    "src_path = project_root / \"src\"\n",
    "if str(src_path) not in sys.path:\n",
    "    sys.path.insert(0, str(src_path))\n"
   ]
  },
  {
   "cell_type": "markdown",
   "id": "46445878",
   "metadata": {},
   "source": [
    "# Circular Connectome Plot: Basic Usage Examples\n",
    "This notebook demonstrates how to use `connectoviz.plot_circular_connectome()` with different inputs, including metadata tracks, grouping, hemispheric layout, masks, and remapping."
   ]
  },
  {
   "cell_type": "markdown",
   "id": "a2782eec",
   "metadata": {},
   "source": [
    "# 1. Basic Usage Example with FAN2016 atlas"
   ]
  },
  {
   "cell_type": "code",
   "execution_count": 20,
   "id": "c07f847e",
   "metadata": {},
   "outputs": [
    {
     "name": "stderr",
     "output_type": "stream",
     "text": [
      "/home/builder/Connectoviz_project/connectoviz/src/connectoviz/core/connectome.py:101: UserWarning: Node metadata is not specified or empty. setting the atlas as the merged metadata.\n",
      "  warnings.warn(\n",
      "/home/builder/Connectoviz_project/connectoviz/src/connectoviz/utils/handle_layout_prefrences.py:358: FutureWarning: When grouping with a length-1 list-like, you will need to pass a length-1 tuple to get_group in a future version of pandas. Pass `(name,)` instead of `name` to silence this warning.\n",
      "  group_df = grouped_atlas.get_group(group)\n",
      "/home/builder/Connectoviz_project/connectoviz/src/connectoviz/utils/handle_layout_prefrences.py:358: FutureWarning: When grouping with a length-1 list-like, you will need to pass a length-1 tuple to get_group in a future version of pandas. Pass `(name,)` instead of `name` to silence this warning.\n",
      "  group_df = grouped_atlas.get_group(group)\n",
      "/home/builder/Connectoviz_project/connectoviz/src/connectoviz/utils/handle_layout_prefrences.py:358: FutureWarning: When grouping with a length-1 list-like, you will need to pass a length-1 tuple to get_group in a future version of pandas. Pass `(name,)` instead of `name` to silence this warning.\n",
      "  group_df = grouped_atlas.get_group(group)\n",
      "/home/builder/Connectoviz_project/connectoviz/src/connectoviz/utils/handle_layout_prefrences.py:358: FutureWarning: When grouping with a length-1 list-like, you will need to pass a length-1 tuple to get_group in a future version of pandas. Pass `(name,)` instead of `name` to silence this warning.\n",
      "  group_df = grouped_atlas.get_group(group)\n",
      "/home/builder/Connectoviz_project/connectoviz/src/connectoviz/utils/handle_layout_prefrences.py:358: FutureWarning: When grouping with a length-1 list-like, you will need to pass a length-1 tuple to get_group in a future version of pandas. Pass `(name,)` instead of `name` to silence this warning.\n",
      "  group_df = grouped_atlas.get_group(group)\n",
      "/home/builder/Connectoviz_project/connectoviz/src/connectoviz/utils/handle_layout_prefrences.py:358: FutureWarning: When grouping with a length-1 list-like, you will need to pass a length-1 tuple to get_group in a future version of pandas. Pass `(name,)` instead of `name` to silence this warning.\n",
      "  group_df = grouped_atlas.get_group(group)\n",
      "/home/builder/Connectoviz_project/connectoviz/src/connectoviz/utils/handle_layout_prefrences.py:358: FutureWarning: When grouping with a length-1 list-like, you will need to pass a length-1 tuple to get_group in a future version of pandas. Pass `(name,)` instead of `name` to silence this warning.\n",
      "  group_df = grouped_atlas.get_group(group)\n",
      "/home/builder/Connectoviz_project/connectoviz/src/connectoviz/utils/handle_layout_prefrences.py:358: FutureWarning: When grouping with a length-1 list-like, you will need to pass a length-1 tuple to get_group in a future version of pandas. Pass `(name,)` instead of `name` to silence this warning.\n",
      "  group_df = grouped_atlas.get_group(group)\n",
      "/home/builder/Connectoviz_project/connectoviz/src/connectoviz/utils/handle_layout_prefrences.py:358: FutureWarning: When grouping with a length-1 list-like, you will need to pass a length-1 tuple to get_group in a future version of pandas. Pass `(name,)` instead of `name` to silence this warning.\n",
      "  group_df = grouped_atlas.get_group(group)\n",
      "/home/builder/Connectoviz_project/connectoviz/src/connectoviz/utils/handle_layout_prefrences.py:358: FutureWarning: When grouping with a length-1 list-like, you will need to pass a length-1 tuple to get_group in a future version of pandas. Pass `(name,)` instead of `name` to silence this warning.\n",
      "  group_df = grouped_atlas.get_group(group)\n",
      "/home/builder/Connectoviz_project/connectoviz/src/connectoviz/utils/handle_layout_prefrences.py:358: FutureWarning: When grouping with a length-1 list-like, you will need to pass a length-1 tuple to get_group in a future version of pandas. Pass `(name,)` instead of `name` to silence this warning.\n",
      "  group_df = grouped_atlas.get_group(group)\n",
      "/home/builder/Connectoviz_project/connectoviz/src/connectoviz/utils/handle_layout_prefrences.py:358: FutureWarning: When grouping with a length-1 list-like, you will need to pass a length-1 tuple to get_group in a future version of pandas. Pass `(name,)` instead of `name` to silence this warning.\n",
      "  group_df = grouped_atlas.get_group(group)\n",
      "/home/builder/Connectoviz_project/connectoviz/src/connectoviz/utils/handle_layout_prefrences.py:358: FutureWarning: When grouping with a length-1 list-like, you will need to pass a length-1 tuple to get_group in a future version of pandas. Pass `(name,)` instead of `name` to silence this warning.\n",
      "  group_df = grouped_atlas.get_group(group)\n",
      "/home/builder/Connectoviz_project/connectoviz/src/connectoviz/utils/handle_layout_prefrences.py:358: FutureWarning: When grouping with a length-1 list-like, you will need to pass a length-1 tuple to get_group in a future version of pandas. Pass `(name,)` instead of `name` to silence this warning.\n",
      "  group_df = grouped_atlas.get_group(group)\n",
      "/home/builder/Connectoviz_project/connectoviz/src/connectoviz/utils/handle_layout_prefrences.py:358: FutureWarning: When grouping with a length-1 list-like, you will need to pass a length-1 tuple to get_group in a future version of pandas. Pass `(name,)` instead of `name` to silence this warning.\n",
      "  group_df = grouped_atlas.get_group(group)\n"
     ]
    },
    {
     "name": "stdout",
     "output_type": "stream",
     "text": [
      "Filtering metadata by tracks: ['Yeo_7network']\n",
      "Total nodes: 274\n",
      "Grouped nodes: 274\n",
      "Ungrouped nodes: 0 → []\n"
     ]
    }
   ],
   "source": [
    "import pandas as pd\n",
    "from pathlib import Path\n",
    "# import connectoviz\n",
    "from connectoviz.plot_circular_connectome import plot_circular_connectome\n",
    "import matplotlib.pyplot as plt\n",
    "%matplotlib qt\n",
    "# Path to the current script\n",
    "SCRIPT_DIR = Path.cwd().resolve().parent\n",
    "# Path to the data directory (going up one level from visualization/)\n",
    "PACKAGE_ROOT = Path.cwd().resolve().parents[1]  # src/connectoviz\n",
    "DATA_DIR = PACKAGE_ROOT / \"connectoviz\" / \"src\" / \"connectoviz\" / \"data\"\n",
    "ATLAS_DIR = DATA_DIR / \"atlases\" / \"available_atlases\"\n",
    "MAT_DIR = DATA_DIR / \"connectomes\"\n",
    "# test fan2016 atlas and matrix\n",
    "atlas_fname = r\"fan2016/MNI152/space-MNI152_atlas-fan2016_res-1mm_dseg.csv\"\n",
    "matrix_fname = r\"fan2016.csv\"\n",
    "# Now construct full paths\n",
    "atlas_path = ATLAS_DIR / atlas_fname\n",
    "matrix_path = MAT_DIR / matrix_fname\n",
    "\n",
    "# Read the atlas and connectome matrix\n",
    "atlas_pd = pd.read_csv(atlas_path)\n",
    "con_mat = pd.read_csv(matrix_path, header=None).values\n",
    "\n",
    "#Example usage with fan2016\n",
    "\n",
    "fig, ax = plot_circular_connectome(\n",
    "    con_mat=con_mat,\n",
    "    atlas=atlas_pd,\n",
    "    metadata_df=None,\n",
    "    hemispheric_par=True,\n",
    "    include_other=True,\n",
    "    group_by=\"Lobe\",\n",
    "    display_group_names=True,\n",
    "    display_node_names=False,\n",
    "    label=\"Label\",\n",
    "    roi_names=\"ROIname\",\n",
    "    tracks=[\"Yeo_7network\"],\n",
    ")\n",
    "plt.show()"
   ]
  },
  {
   "cell_type": "markdown",
   "id": "53087545",
   "metadata": {},
   "source": [
    "# 1. Basic Usage Example with SHAEFER2018 atlas"
   ]
  },
  {
   "cell_type": "code",
   "execution_count": 3,
   "id": "6c8ebaa7",
   "metadata": {},
   "outputs": [
    {
     "name": "stderr",
     "output_type": "stream",
     "text": [
      "/home/builder/Connectoviz_project/connectoviz/src/connectoviz/core/connectome.py:101: UserWarning: Node metadata is not specified or empty. setting the atlas as the merged metadata.\n",
      "  warnings.warn(\n",
      "/home/builder/Connectoviz_project/connectoviz/src/connectoviz/utils/handle_layout_prefrences.py:358: FutureWarning: When grouping with a length-1 list-like, you will need to pass a length-1 tuple to get_group in a future version of pandas. Pass `(name,)` instead of `name` to silence this warning.\n",
      "  group_df = grouped_atlas.get_group(group)\n",
      "/home/builder/Connectoviz_project/connectoviz/src/connectoviz/utils/handle_layout_prefrences.py:358: FutureWarning: When grouping with a length-1 list-like, you will need to pass a length-1 tuple to get_group in a future version of pandas. Pass `(name,)` instead of `name` to silence this warning.\n",
      "  group_df = grouped_atlas.get_group(group)\n",
      "/home/builder/Connectoviz_project/connectoviz/src/connectoviz/utils/handle_layout_prefrences.py:358: FutureWarning: When grouping with a length-1 list-like, you will need to pass a length-1 tuple to get_group in a future version of pandas. Pass `(name,)` instead of `name` to silence this warning.\n",
      "  group_df = grouped_atlas.get_group(group)\n",
      "/home/builder/Connectoviz_project/connectoviz/src/connectoviz/utils/handle_layout_prefrences.py:358: FutureWarning: When grouping with a length-1 list-like, you will need to pass a length-1 tuple to get_group in a future version of pandas. Pass `(name,)` instead of `name` to silence this warning.\n",
      "  group_df = grouped_atlas.get_group(group)\n",
      "/home/builder/Connectoviz_project/connectoviz/src/connectoviz/utils/handle_layout_prefrences.py:358: FutureWarning: When grouping with a length-1 list-like, you will need to pass a length-1 tuple to get_group in a future version of pandas. Pass `(name,)` instead of `name` to silence this warning.\n",
      "  group_df = grouped_atlas.get_group(group)\n",
      "/home/builder/Connectoviz_project/connectoviz/src/connectoviz/utils/handle_layout_prefrences.py:358: FutureWarning: When grouping with a length-1 list-like, you will need to pass a length-1 tuple to get_group in a future version of pandas. Pass `(name,)` instead of `name` to silence this warning.\n",
      "  group_df = grouped_atlas.get_group(group)\n",
      "/home/builder/Connectoviz_project/connectoviz/src/connectoviz/utils/handle_layout_prefrences.py:358: FutureWarning: When grouping with a length-1 list-like, you will need to pass a length-1 tuple to get_group in a future version of pandas. Pass `(name,)` instead of `name` to silence this warning.\n",
      "  group_df = grouped_atlas.get_group(group)\n",
      "/home/builder/Connectoviz_project/connectoviz/src/connectoviz/utils/handle_layout_prefrences.py:358: FutureWarning: When grouping with a length-1 list-like, you will need to pass a length-1 tuple to get_group in a future version of pandas. Pass `(name,)` instead of `name` to silence this warning.\n",
      "  group_df = grouped_atlas.get_group(group)\n",
      "/home/builder/Connectoviz_project/connectoviz/src/connectoviz/utils/handle_layout_prefrences.py:358: FutureWarning: When grouping with a length-1 list-like, you will need to pass a length-1 tuple to get_group in a future version of pandas. Pass `(name,)` instead of `name` to silence this warning.\n",
      "  group_df = grouped_atlas.get_group(group)\n",
      "/home/builder/Connectoviz_project/connectoviz/src/connectoviz/utils/handle_layout_prefrences.py:358: FutureWarning: When grouping with a length-1 list-like, you will need to pass a length-1 tuple to get_group in a future version of pandas. Pass `(name,)` instead of `name` to silence this warning.\n",
      "  group_df = grouped_atlas.get_group(group)\n",
      "/home/builder/Connectoviz_project/connectoviz/src/connectoviz/utils/handle_layout_prefrences.py:358: FutureWarning: When grouping with a length-1 list-like, you will need to pass a length-1 tuple to get_group in a future version of pandas. Pass `(name,)` instead of `name` to silence this warning.\n",
      "  group_df = grouped_atlas.get_group(group)\n",
      "/home/builder/Connectoviz_project/connectoviz/src/connectoviz/utils/handle_layout_prefrences.py:358: FutureWarning: When grouping with a length-1 list-like, you will need to pass a length-1 tuple to get_group in a future version of pandas. Pass `(name,)` instead of `name` to silence this warning.\n",
      "  group_df = grouped_atlas.get_group(group)\n",
      "/home/builder/Connectoviz_project/connectoviz/src/connectoviz/utils/handle_layout_prefrences.py:358: FutureWarning: When grouping with a length-1 list-like, you will need to pass a length-1 tuple to get_group in a future version of pandas. Pass `(name,)` instead of `name` to silence this warning.\n",
      "  group_df = grouped_atlas.get_group(group)\n",
      "/home/builder/Connectoviz_project/connectoviz/src/connectoviz/utils/handle_layout_prefrences.py:358: FutureWarning: When grouping with a length-1 list-like, you will need to pass a length-1 tuple to get_group in a future version of pandas. Pass `(name,)` instead of `name` to silence this warning.\n",
      "  group_df = grouped_atlas.get_group(group)\n",
      "/home/builder/Connectoviz_project/connectoviz/src/connectoviz/utils/handle_layout_prefrences.py:358: FutureWarning: When grouping with a length-1 list-like, you will need to pass a length-1 tuple to get_group in a future version of pandas. Pass `(name,)` instead of `name` to silence this warning.\n",
      "  group_df = grouped_atlas.get_group(group)\n",
      "/home/builder/Connectoviz_project/connectoviz/src/connectoviz/utils/handle_layout_prefrences.py:358: FutureWarning: When grouping with a length-1 list-like, you will need to pass a length-1 tuple to get_group in a future version of pandas. Pass `(name,)` instead of `name` to silence this warning.\n",
      "  group_df = grouped_atlas.get_group(group)\n",
      "/home/builder/Connectoviz_project/connectoviz/src/connectoviz/utils/handle_layout_prefrences.py:358: FutureWarning: When grouping with a length-1 list-like, you will need to pass a length-1 tuple to get_group in a future version of pandas. Pass `(name,)` instead of `name` to silence this warning.\n",
      "  group_df = grouped_atlas.get_group(group)\n",
      "/home/builder/Connectoviz_project/connectoviz/src/connectoviz/utils/handle_layout_prefrences.py:358: FutureWarning: When grouping with a length-1 list-like, you will need to pass a length-1 tuple to get_group in a future version of pandas. Pass `(name,)` instead of `name` to silence this warning.\n",
      "  group_df = grouped_atlas.get_group(group)\n",
      "/home/builder/Connectoviz_project/connectoviz/src/connectoviz/utils/handle_layout_prefrences.py:358: FutureWarning: When grouping with a length-1 list-like, you will need to pass a length-1 tuple to get_group in a future version of pandas. Pass `(name,)` instead of `name` to silence this warning.\n",
      "  group_df = grouped_atlas.get_group(group)\n",
      "/home/builder/Connectoviz_project/connectoviz/src/connectoviz/utils/handle_layout_prefrences.py:358: FutureWarning: When grouping with a length-1 list-like, you will need to pass a length-1 tuple to get_group in a future version of pandas. Pass `(name,)` instead of `name` to silence this warning.\n",
      "  group_df = grouped_atlas.get_group(group)\n",
      "/home/builder/Connectoviz_project/connectoviz/src/connectoviz/utils/handle_layout_prefrences.py:358: FutureWarning: When grouping with a length-1 list-like, you will need to pass a length-1 tuple to get_group in a future version of pandas. Pass `(name,)` instead of `name` to silence this warning.\n",
      "  group_df = grouped_atlas.get_group(group)\n",
      "/home/builder/Connectoviz_project/connectoviz/src/connectoviz/utils/handle_layout_prefrences.py:358: FutureWarning: When grouping with a length-1 list-like, you will need to pass a length-1 tuple to get_group in a future version of pandas. Pass `(name,)` instead of `name` to silence this warning.\n",
      "  group_df = grouped_atlas.get_group(group)\n",
      "/home/builder/Connectoviz_project/connectoviz/src/connectoviz/utils/handle_layout_prefrences.py:358: FutureWarning: When grouping with a length-1 list-like, you will need to pass a length-1 tuple to get_group in a future version of pandas. Pass `(name,)` instead of `name` to silence this warning.\n",
      "  group_df = grouped_atlas.get_group(group)\n",
      "/home/builder/Connectoviz_project/connectoviz/src/connectoviz/utils/handle_layout_prefrences.py:358: FutureWarning: When grouping with a length-1 list-like, you will need to pass a length-1 tuple to get_group in a future version of pandas. Pass `(name,)` instead of `name` to silence this warning.\n",
      "  group_df = grouped_atlas.get_group(group)\n",
      "/home/builder/Connectoviz_project/connectoviz/src/connectoviz/utils/handle_layout_prefrences.py:358: FutureWarning: When grouping with a length-1 list-like, you will need to pass a length-1 tuple to get_group in a future version of pandas. Pass `(name,)` instead of `name` to silence this warning.\n",
      "  group_df = grouped_atlas.get_group(group)\n",
      "/home/builder/Connectoviz_project/connectoviz/src/connectoviz/utils/handle_layout_prefrences.py:358: FutureWarning: When grouping with a length-1 list-like, you will need to pass a length-1 tuple to get_group in a future version of pandas. Pass `(name,)` instead of `name` to silence this warning.\n",
      "  group_df = grouped_atlas.get_group(group)\n",
      "/home/builder/Connectoviz_project/connectoviz/src/connectoviz/utils/handle_layout_prefrences.py:358: FutureWarning: When grouping with a length-1 list-like, you will need to pass a length-1 tuple to get_group in a future version of pandas. Pass `(name,)` instead of `name` to silence this warning.\n",
      "  group_df = grouped_atlas.get_group(group)\n",
      "/home/builder/Connectoviz_project/connectoviz/src/connectoviz/utils/handle_layout_prefrences.py:358: FutureWarning: When grouping with a length-1 list-like, you will need to pass a length-1 tuple to get_group in a future version of pandas. Pass `(name,)` instead of `name` to silence this warning.\n",
      "  group_df = grouped_atlas.get_group(group)\n",
      "/home/builder/Connectoviz_project/connectoviz/src/connectoviz/utils/handle_layout_prefrences.py:358: FutureWarning: When grouping with a length-1 list-like, you will need to pass a length-1 tuple to get_group in a future version of pandas. Pass `(name,)` instead of `name` to silence this warning.\n",
      "  group_df = grouped_atlas.get_group(group)\n",
      "/home/builder/Connectoviz_project/connectoviz/src/connectoviz/utils/handle_layout_prefrences.py:358: FutureWarning: When grouping with a length-1 list-like, you will need to pass a length-1 tuple to get_group in a future version of pandas. Pass `(name,)` instead of `name` to silence this warning.\n",
      "  group_df = grouped_atlas.get_group(group)\n",
      "/home/builder/Connectoviz_project/connectoviz/src/connectoviz/utils/handle_layout_prefrences.py:358: FutureWarning: When grouping with a length-1 list-like, you will need to pass a length-1 tuple to get_group in a future version of pandas. Pass `(name,)` instead of `name` to silence this warning.\n",
      "  group_df = grouped_atlas.get_group(group)\n",
      "/home/builder/Connectoviz_project/connectoviz/src/connectoviz/utils/handle_layout_prefrences.py:358: FutureWarning: When grouping with a length-1 list-like, you will need to pass a length-1 tuple to get_group in a future version of pandas. Pass `(name,)` instead of `name` to silence this warning.\n",
      "  group_df = grouped_atlas.get_group(group)\n",
      "/home/builder/Connectoviz_project/connectoviz/src/connectoviz/utils/handle_layout_prefrences.py:358: FutureWarning: When grouping with a length-1 list-like, you will need to pass a length-1 tuple to get_group in a future version of pandas. Pass `(name,)` instead of `name` to silence this warning.\n",
      "  group_df = grouped_atlas.get_group(group)\n",
      "/home/builder/Connectoviz_project/connectoviz/src/connectoviz/utils/handle_layout_prefrences.py:358: FutureWarning: When grouping with a length-1 list-like, you will need to pass a length-1 tuple to get_group in a future version of pandas. Pass `(name,)` instead of `name` to silence this warning.\n",
      "  group_df = grouped_atlas.get_group(group)\n",
      "/home/builder/Connectoviz_project/connectoviz/src/connectoviz/utils/handle_layout_prefrences.py:358: FutureWarning: When grouping with a length-1 list-like, you will need to pass a length-1 tuple to get_group in a future version of pandas. Pass `(name,)` instead of `name` to silence this warning.\n",
      "  group_df = grouped_atlas.get_group(group)\n",
      "/home/builder/Connectoviz_project/connectoviz/src/connectoviz/utils/handle_layout_prefrences.py:358: FutureWarning: When grouping with a length-1 list-like, you will need to pass a length-1 tuple to get_group in a future version of pandas. Pass `(name,)` instead of `name` to silence this warning.\n",
      "  group_df = grouped_atlas.get_group(group)\n",
      "/home/builder/Connectoviz_project/connectoviz/src/connectoviz/utils/handle_layout_prefrences.py:358: FutureWarning: When grouping with a length-1 list-like, you will need to pass a length-1 tuple to get_group in a future version of pandas. Pass `(name,)` instead of `name` to silence this warning.\n",
      "  group_df = grouped_atlas.get_group(group)\n",
      "/home/builder/Connectoviz_project/connectoviz/src/connectoviz/utils/handle_layout_prefrences.py:358: FutureWarning: When grouping with a length-1 list-like, you will need to pass a length-1 tuple to get_group in a future version of pandas. Pass `(name,)` instead of `name` to silence this warning.\n",
      "  group_df = grouped_atlas.get_group(group)\n",
      "/home/builder/Connectoviz_project/connectoviz/src/connectoviz/utils/handle_layout_prefrences.py:358: FutureWarning: When grouping with a length-1 list-like, you will need to pass a length-1 tuple to get_group in a future version of pandas. Pass `(name,)` instead of `name` to silence this warning.\n",
      "  group_df = grouped_atlas.get_group(group)\n",
      "/home/builder/Connectoviz_project/connectoviz/src/connectoviz/utils/handle_layout_prefrences.py:358: FutureWarning: When grouping with a length-1 list-like, you will need to pass a length-1 tuple to get_group in a future version of pandas. Pass `(name,)` instead of `name` to silence this warning.\n",
      "  group_df = grouped_atlas.get_group(group)\n",
      "/home/builder/Connectoviz_project/connectoviz/src/connectoviz/utils/handle_layout_prefrences.py:358: FutureWarning: When grouping with a length-1 list-like, you will need to pass a length-1 tuple to get_group in a future version of pandas. Pass `(name,)` instead of `name` to silence this warning.\n",
      "  group_df = grouped_atlas.get_group(group)\n",
      "/home/builder/Connectoviz_project/connectoviz/src/connectoviz/utils/handle_layout_prefrences.py:358: FutureWarning: When grouping with a length-1 list-like, you will need to pass a length-1 tuple to get_group in a future version of pandas. Pass `(name,)` instead of `name` to silence this warning.\n",
      "  group_df = grouped_atlas.get_group(group)\n",
      "/home/builder/Connectoviz_project/connectoviz/src/connectoviz/utils/handle_layout_prefrences.py:358: FutureWarning: When grouping with a length-1 list-like, you will need to pass a length-1 tuple to get_group in a future version of pandas. Pass `(name,)` instead of `name` to silence this warning.\n",
      "  group_df = grouped_atlas.get_group(group)\n",
      "/home/builder/Connectoviz_project/connectoviz/src/connectoviz/utils/handle_layout_prefrences.py:358: FutureWarning: When grouping with a length-1 list-like, you will need to pass a length-1 tuple to get_group in a future version of pandas. Pass `(name,)` instead of `name` to silence this warning.\n",
      "  group_df = grouped_atlas.get_group(group)\n",
      "/home/builder/Connectoviz_project/connectoviz/src/connectoviz/utils/handle_layout_prefrences.py:358: FutureWarning: When grouping with a length-1 list-like, you will need to pass a length-1 tuple to get_group in a future version of pandas. Pass `(name,)` instead of `name` to silence this warning.\n",
      "  group_df = grouped_atlas.get_group(group)\n",
      "/home/builder/Connectoviz_project/connectoviz/src/connectoviz/utils/handle_layout_prefrences.py:358: FutureWarning: When grouping with a length-1 list-like, you will need to pass a length-1 tuple to get_group in a future version of pandas. Pass `(name,)` instead of `name` to silence this warning.\n",
      "  group_df = grouped_atlas.get_group(group)\n",
      "/home/builder/Connectoviz_project/connectoviz/src/connectoviz/utils/handle_layout_prefrences.py:358: FutureWarning: When grouping with a length-1 list-like, you will need to pass a length-1 tuple to get_group in a future version of pandas. Pass `(name,)` instead of `name` to silence this warning.\n",
      "  group_df = grouped_atlas.get_group(group)\n",
      "/home/builder/Connectoviz_project/connectoviz/src/connectoviz/utils/handle_layout_prefrences.py:358: FutureWarning: When grouping with a length-1 list-like, you will need to pass a length-1 tuple to get_group in a future version of pandas. Pass `(name,)` instead of `name` to silence this warning.\n",
      "  group_df = grouped_atlas.get_group(group)\n",
      "/home/builder/Connectoviz_project/connectoviz/src/connectoviz/utils/handle_layout_prefrences.py:358: FutureWarning: When grouping with a length-1 list-like, you will need to pass a length-1 tuple to get_group in a future version of pandas. Pass `(name,)` instead of `name` to silence this warning.\n",
      "  group_df = grouped_atlas.get_group(group)\n",
      "/home/builder/Connectoviz_project/connectoviz/src/connectoviz/utils/handle_layout_prefrences.py:358: FutureWarning: When grouping with a length-1 list-like, you will need to pass a length-1 tuple to get_group in a future version of pandas. Pass `(name,)` instead of `name` to silence this warning.\n",
      "  group_df = grouped_atlas.get_group(group)\n",
      "/home/builder/Connectoviz_project/connectoviz/src/connectoviz/utils/handle_layout_prefrences.py:358: FutureWarning: When grouping with a length-1 list-like, you will need to pass a length-1 tuple to get_group in a future version of pandas. Pass `(name,)` instead of `name` to silence this warning.\n",
      "  group_df = grouped_atlas.get_group(group)\n",
      "/home/builder/Connectoviz_project/connectoviz/src/connectoviz/utils/handle_layout_prefrences.py:358: FutureWarning: When grouping with a length-1 list-like, you will need to pass a length-1 tuple to get_group in a future version of pandas. Pass `(name,)` instead of `name` to silence this warning.\n",
      "  group_df = grouped_atlas.get_group(group)\n",
      "/home/builder/Connectoviz_project/connectoviz/src/connectoviz/utils/handle_layout_prefrences.py:358: FutureWarning: When grouping with a length-1 list-like, you will need to pass a length-1 tuple to get_group in a future version of pandas. Pass `(name,)` instead of `name` to silence this warning.\n",
      "  group_df = grouped_atlas.get_group(group)\n",
      "/home/builder/Connectoviz_project/connectoviz/src/connectoviz/utils/handle_layout_prefrences.py:358: FutureWarning: When grouping with a length-1 list-like, you will need to pass a length-1 tuple to get_group in a future version of pandas. Pass `(name,)` instead of `name` to silence this warning.\n",
      "  group_df = grouped_atlas.get_group(group)\n",
      "/home/builder/Connectoviz_project/connectoviz/src/connectoviz/utils/handle_layout_prefrences.py:358: FutureWarning: When grouping with a length-1 list-like, you will need to pass a length-1 tuple to get_group in a future version of pandas. Pass `(name,)` instead of `name` to silence this warning.\n",
      "  group_df = grouped_atlas.get_group(group)\n",
      "/home/builder/Connectoviz_project/connectoviz/src/connectoviz/utils/handle_layout_prefrences.py:358: FutureWarning: When grouping with a length-1 list-like, you will need to pass a length-1 tuple to get_group in a future version of pandas. Pass `(name,)` instead of `name` to silence this warning.\n",
      "  group_df = grouped_atlas.get_group(group)\n",
      "/home/builder/Connectoviz_project/connectoviz/src/connectoviz/utils/handle_layout_prefrences.py:358: FutureWarning: When grouping with a length-1 list-like, you will need to pass a length-1 tuple to get_group in a future version of pandas. Pass `(name,)` instead of `name` to silence this warning.\n",
      "  group_df = grouped_atlas.get_group(group)\n",
      "/home/builder/Connectoviz_project/connectoviz/src/connectoviz/utils/handle_layout_prefrences.py:358: FutureWarning: When grouping with a length-1 list-like, you will need to pass a length-1 tuple to get_group in a future version of pandas. Pass `(name,)` instead of `name` to silence this warning.\n",
      "  group_df = grouped_atlas.get_group(group)\n",
      "/home/builder/Connectoviz_project/connectoviz/src/connectoviz/utils/handle_layout_prefrences.py:358: FutureWarning: When grouping with a length-1 list-like, you will need to pass a length-1 tuple to get_group in a future version of pandas. Pass `(name,)` instead of `name` to silence this warning.\n",
      "  group_df = grouped_atlas.get_group(group)\n"
     ]
    },
    {
     "name": "stdout",
     "output_type": "stream",
     "text": [
      "Total nodes: 154\n",
      "Grouped nodes: 154\n",
      "Ungrouped nodes: 0 → []\n"
     ]
    },
    {
     "data": {
      "text/plain": [
       "(<Figure size 1000x1000 with 2 Axes>, <Axes: >)"
      ]
     },
     "execution_count": 3,
     "metadata": {},
     "output_type": "execute_result"
    }
   ],
   "source": [
    "import pandas as pd\n",
    "from pathlib import Path\n",
    "# import connectoviz\n",
    "from connectoviz.plot_circular_connectome import plot_circular_connectome\n",
    "import matplotlib.pyplot as plt\n",
    "%matplotlib qt\n",
    "# Path to the current script\n",
    "SCRIPT_DIR = Path.cwd().resolve().parent\n",
    "\n",
    "# Path to the data directory (going up one level from visualization/)\n",
    "PACKAGE_ROOT = Path.cwd().resolve().parents[1]  # src/connectoviz\n",
    "DATA_DIR = PACKAGE_ROOT / \"connectoviz\" / \"src\" / \"connectoviz\" / \"data\"\n",
    "ATLAS_DIR = DATA_DIR / \"atlases\" / \"available_atlases\"\n",
    "MAT_DIR = DATA_DIR / \"connectomes\"\n",
    "\n",
    "# test schaefer2018\n",
    "atlas_fname = r\"schaefer2018tian2020/MNI152/space-MNI152_atlas-schaefer2018tian2020_res-1mm_den-100_div-7networks_dseg.csv\"\n",
    "matrix_fname = r\"schaefer2018tian2020_100_7.csv\"\n",
    "# Now construct full paths\n",
    "atlas_path = ATLAS_DIR / atlas_fname\n",
    "matrix_path = MAT_DIR / matrix_fname\n",
    "atlas_pd = pd.read_csv(atlas_path)\n",
    "con_mat = pd.read_csv(matrix_path, header=None).values\n",
    "plot_circular_connectome(\n",
    "    con_mat=con_mat,\n",
    "    atlas=atlas_pd,\n",
    "    metadata_df=None,\n",
    "    hemispheric_par=True,\n",
    "    include_other=True,\n",
    "    group_by=\"component\",\n",
    "    display_group_names=True,\n",
    "    display_node_names=False,\n",
    "    label=\"index\",  # Assuming 'index' is the label column in the atlas\n",
    "    roi_names=\"name\",\n",
    "    show_graph=True,\n",
    "    group_cmap=\"Pastel2\",\n",
    "    edge_cmap=\"magma\",\n",
    "    edge_alpha=0.4\n",
    "    # tracks=[\"network\"]\n",
    ")\n"
   ]
  },
  {
   "cell_type": "markdown",
   "id": "d40ae8fd",
   "metadata": {},
   "source": [
    "### Example 1: Basic circular plot\n",
    "This plot uses only the connectome and atlas with no extra metadata or tracks."
   ]
  },
  {
   "cell_type": "code",
   "execution_count": null,
   "id": "707122b5",
   "metadata": {},
   "outputs": [],
   "source": [
    "plot_circular_connectome(\n",
    "    con_mat=con_mat,\n",
    "    atlas=atlas,\n",
    "    metadata_df=metadata,\n",
    ")"
   ]
  },
  {
   "cell_type": "markdown",
   "id": "4ebd19cd",
   "metadata": {},
   "source": [
    "### Example 2: Add metadata tracks\n",
    "Here we visualize two outer tracks: GMV and centrality."
   ]
  },
  {
   "cell_type": "code",
   "execution_count": null,
   "id": "547aa6d7",
   "metadata": {},
   "outputs": [],
   "source": [
    "plot_circular_connectome(\n",
    "    con_mat=con_mat,\n",
    "    atlas=atlas,\n",
    "    metadata_df=metadata,\n",
    "    tracks=['GMV', 'centrality'],\n",
    ")"
   ]
  },
  {
   "cell_type": "markdown",
   "id": "bf0ad066",
   "metadata": {},
   "source": [
    "### Example 3: Group nodes by lobe\n",
    "The node layout is divided by the 'lobe' column."
   ]
  },
  {
   "cell_type": "code",
   "execution_count": null,
   "id": "62e8fb30",
   "metadata": {},
   "outputs": [],
   "source": [
    "plot_circular_connectome(\n",
    "    con_mat=con_mat,\n",
    "    atlas=atlas,\n",
    "    metadata_df=metadata,\n",
    "    tracks=['GMV'],\n",
    "    group_by='lobe',\n",
    ")"
   ]
  },
  {
   "cell_type": "markdown",
   "id": "54d345f1",
   "metadata": {},
   "source": [
    "### Example 4: Symmetrical hemispheric layout\n",
    "Nodes are split by hemisphere with mirrored symmetry."
   ]
  },
  {
   "cell_type": "code",
   "execution_count": null,
   "id": "e889dafb",
   "metadata": {},
   "outputs": [],
   "source": [
    "plot_circular_connectome(\n",
    "    con_mat=con_mat,\n",
    "    atlas=atlas,\n",
    "    metadata_df=metadata,\n",
    "    tracks=['GMV'],\n",
    "    group_by='lobe',\n",
    "    hemispheric_par=True,\n",
    ")"
   ]
  },
  {
   "cell_type": "markdown",
   "id": "3fdeccdf",
   "metadata": {},
   "source": [
    "### Example 5: Apply a custom weights/mask\n",
    "Edges are shown only where connectivity exceeds 0.2."
   ]
  },
  {
   "cell_type": "code",
   "execution_count": null,
   "id": "56edc6c6",
   "metadata": {},
   "outputs": [],
   "source": [
    "mask = (con_mat > 0.2).astype(int)\n",
    "plot_circular_connectome(\n",
    "    con_mat=con_mat,\n",
    "    atlas=atlas,\n",
    "    metadata_df=metadata,\n",
    "    tracks=['GMV'],\n",
    "    weights=mask,\n",
    "    group_by='network',\n",
    ")"
   ]
  },
  {
   "cell_type": "markdown",
   "id": "639645c4",
   "metadata": {},
   "source": [
    "### Example 6: Remap node labels\n",
    "We relabel nodes using a custom mapping dictionary."
   ]
  },
  {
   "cell_type": "code",
   "execution_count": null,
   "id": "dddd9961",
   "metadata": {},
   "outputs": [],
   "source": [
    "label_map = {idx: f'R{i}' for i, idx in enumerate(metadata.index)}\n",
    "plot_circular_connectome(\n",
    "    con_mat=con_mat,\n",
    "    atlas=atlas,\n",
    "    metadata_df=metadata,\n",
    "    index_mapping=label_map,\n",
    "    tracks=['centrality'],\n",
    "    group_by='hemisphere',\n",
    "    hemispheric_par=True,\n",
    ")"
   ]
  }
 ],
 "metadata": {
  "kernelspec": {
   "display_name": ".venv",
   "language": "python",
   "name": "python3"
  },
  "language_info": {
   "codemirror_mode": {
    "name": "ipython",
    "version": 3
   },
   "file_extension": ".py",
   "mimetype": "text/x-python",
   "name": "python",
   "nbconvert_exporter": "python",
   "pygments_lexer": "ipython3",
   "version": "3.12.3"
  }
 },
 "nbformat": 4,
 "nbformat_minor": 5
}
